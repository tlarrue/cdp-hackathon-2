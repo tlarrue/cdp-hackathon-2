{
  "nbformat": 4,
  "nbformat_minor": 0,
  "metadata": {
    "colab": {
      "name": "Copy of Copy of topic_models.ipynb",
      "provenance": [],
      "collapsed_sections": []
    },
    "kernelspec": {
      "name": "python3",
      "display_name": "Python 3"
    }
  },
  "cells": [
    {
      "cell_type": "markdown",
      "metadata": {
        "id": "yOwTyRgrKmT0"
      },
      "source": [
        "## Google Authentications & Libraries\n",
        "\n"
      ]
    },
    {
      "cell_type": "code",
      "metadata": {
        "id": "sTZdPRlfKSsZ"
      },
      "source": [
        "# Code to read csv file into Colaboratory:\n",
        "# reference: https://towardsdatascience.com/3-ways-to-load-csv-files-into-colab-7c14fcbdcb92\n",
        "!pip install -U -q PyDrive\n",
        "from pydrive.auth import GoogleAuth\n",
        "from pydrive.drive import GoogleDrive\n",
        "from google.colab import auth\n",
        "from oauth2client.client import GoogleCredentials\n",
        "\n",
        "# Authenticate and create the PyDrive client.\n",
        "auth.authenticate_user()\n",
        "gauth = GoogleAuth()\n",
        "gauth.credentials = GoogleCredentials.get_application_default()\n",
        "my_drive = GoogleDrive(gauth)"
      ],
      "execution_count": null,
      "outputs": []
    },
    {
      "cell_type": "code",
      "metadata": {
        "id": "hNkxSxAGLC2s",
        "colab": {
          "base_uri": "https://localhost:8080/",
          "height": 71
        },
        "outputId": "692debad-24ec-4101-d965-c594641fb872"
      },
      "source": [
        "%matplotlib inline\n",
        "import pandas as pd\n",
        "import numpy as np\n",
        "import nltk\n",
        "from nltk.corpus import stopwords\n",
        "import gensim\n",
        "from gensim.models import LdaModel\n",
        "from gensim import models, corpora, similarities\n",
        "import re\n",
        "from nltk.stem.porter import PorterStemmer\n",
        "import time\n",
        "from nltk import FreqDist\n",
        "from scipy.stats import entropy\n",
        "import matplotlib.pyplot as plt\n",
        "import seaborn as sns\n",
        "sns.set_style(\"darkgrid\")"
      ],
      "execution_count": null,
      "outputs": [
        {
          "output_type": "stream",
          "text": [
            "/usr/local/lib/python3.6/dist-packages/statsmodels/tools/_testing.py:19: FutureWarning: pandas.util.testing is deprecated. Use the functions in the public API at pandas.testing instead.\n",
            "  import pandas.util.testing as tm\n"
          ],
          "name": "stderr"
        }
      ]
    },
    {
      "cell_type": "markdown",
      "metadata": {
        "id": "jbhhYIjiLOcr"
      },
      "source": [
        "## Import Data"
      ]
    },
    {
      "cell_type": "code",
      "metadata": {
        "id": "2Y-0r7gvLJZK",
        "colab": {
          "base_uri": "https://localhost:8080/",
          "height": 357
        },
        "outputId": "987c8980-2050-43d7-b9e5-7318c6be0eb4"
      },
      "source": [
        "# Cities Questionnaire\n",
        "cities_q_id = '1MdA6rqOjPAugJR4qFOgoNGBiLtpqcLmV'\n",
        "cities_q_file = my_drive.CreateFile({'id':cities_q_id}) \n",
        "cities_q_file.GetContentFile('cities_q.csv')\n",
        "cities_q_df = pd.read_csv('cities_q.csv', encoding='latin1')\n",
        "print(cities_q_df.shape)\n",
        "cities_q_df.head()"
      ],
      "execution_count": null,
      "outputs": [
        {
          "output_type": "stream",
          "text": [
            "(135511, 12)\n"
          ],
          "name": "stdout"
        },
        {
          "output_type": "stream",
          "text": [
            "/usr/local/lib/python3.6/dist-packages/IPython/core/interactiveshell.py:2718: DtypeWarning: Columns (7) have mixed types.Specify dtype option on import or set low_memory=False.\n",
            "  interactivity=interactivity, compiler=compiler, result=result)\n"
          ],
          "name": "stderr"
        },
        {
          "output_type": "execute_result",
          "data": {
            "text/html": [
              "<div>\n",
              "<style scoped>\n",
              "    .dataframe tbody tr th:only-of-type {\n",
              "        vertical-align: middle;\n",
              "    }\n",
              "\n",
              "    .dataframe tbody tr th {\n",
              "        vertical-align: top;\n",
              "    }\n",
              "\n",
              "    .dataframe thead th {\n",
              "        text-align: right;\n",
              "    }\n",
              "</style>\n",
              "<table border=\"1\" class=\"dataframe\">\n",
              "  <thead>\n",
              "    <tr style=\"text-align: right;\">\n",
              "      <th></th>\n",
              "      <th>Project Year</th>\n",
              "      <th>Account Number</th>\n",
              "      <th>Account Name</th>\n",
              "      <th>Question Number</th>\n",
              "      <th>Question Name</th>\n",
              "      <th>Row Number</th>\n",
              "      <th>Row Name</th>\n",
              "      <th>Column Number</th>\n",
              "      <th>Column Name</th>\n",
              "      <th>Response Answer</th>\n",
              "      <th>Comments</th>\n",
              "      <th>File Name</th>\n",
              "    </tr>\n",
              "  </thead>\n",
              "  <tbody>\n",
              "    <tr>\n",
              "      <th>0</th>\n",
              "      <td>2017</td>\n",
              "      <td>63999</td>\n",
              "      <td>City of Miami Beach, FL</td>\n",
              "      <td>0.1</td>\n",
              "      <td>Please give a general description and introdu...</td>\n",
              "      <td>1</td>\n",
              "      <td>NaN</td>\n",
              "      <td>C1</td>\n",
              "      <td>Administrative boundary</td>\n",
              "      <td>City/Municipality</td>\n",
              "      <td>NaN</td>\n",
              "      <td>NaN</td>\n",
              "    </tr>\n",
              "    <tr>\n",
              "      <th>1</th>\n",
              "      <td>2017</td>\n",
              "      <td>62864</td>\n",
              "      <td>City of Lancaster, PA</td>\n",
              "      <td>0.1</td>\n",
              "      <td>Please give a general description and introdu...</td>\n",
              "      <td>1</td>\n",
              "      <td>NaN</td>\n",
              "      <td>C1</td>\n",
              "      <td>Administrative boundary</td>\n",
              "      <td>City/Municipality</td>\n",
              "      <td>NaN</td>\n",
              "      <td>NaN</td>\n",
              "    </tr>\n",
              "    <tr>\n",
              "      <th>2</th>\n",
              "      <td>2017</td>\n",
              "      <td>61790</td>\n",
              "      <td>City of Emeryville, CA</td>\n",
              "      <td>0.1</td>\n",
              "      <td>Please give a general description and introdu...</td>\n",
              "      <td>1</td>\n",
              "      <td>NaN</td>\n",
              "      <td>C1</td>\n",
              "      <td>Administrative boundary</td>\n",
              "      <td>City/Municipality</td>\n",
              "      <td>NaN</td>\n",
              "      <td>NaN</td>\n",
              "    </tr>\n",
              "    <tr>\n",
              "      <th>3</th>\n",
              "      <td>2017</td>\n",
              "      <td>58485</td>\n",
              "      <td>Abington Township</td>\n",
              "      <td>0.1</td>\n",
              "      <td>Please give a general description and introdu...</td>\n",
              "      <td>1</td>\n",
              "      <td>NaN</td>\n",
              "      <td>C1</td>\n",
              "      <td>Administrative boundary</td>\n",
              "      <td>City/Municipality</td>\n",
              "      <td>NaN</td>\n",
              "      <td>NaN</td>\n",
              "    </tr>\n",
              "    <tr>\n",
              "      <th>4</th>\n",
              "      <td>2017</td>\n",
              "      <td>54102</td>\n",
              "      <td>City of Albany</td>\n",
              "      <td>0.1</td>\n",
              "      <td>Please give a general description and introdu...</td>\n",
              "      <td>1</td>\n",
              "      <td>NaN</td>\n",
              "      <td>C1</td>\n",
              "      <td>Administrative boundary</td>\n",
              "      <td>City/Municipality</td>\n",
              "      <td>NaN</td>\n",
              "      <td>NaN</td>\n",
              "    </tr>\n",
              "  </tbody>\n",
              "</table>\n",
              "</div>"
            ],
            "text/plain": [
              "   Project Year  Account Number  ... Comments File Name\n",
              "0          2017           63999  ...      NaN       NaN\n",
              "1          2017           62864  ...      NaN       NaN\n",
              "2          2017           61790  ...      NaN       NaN\n",
              "3          2017           58485  ...      NaN       NaN\n",
              "4          2017           54102  ...      NaN       NaN\n",
              "\n",
              "[5 rows x 12 columns]"
            ]
          },
          "metadata": {
            "tags": []
          },
          "execution_count": 4
        }
      ]
    },
    {
      "cell_type": "code",
      "metadata": {
        "id": "jlEMNpNz-Rj1",
        "colab": {
          "base_uri": "https://localhost:8080/",
          "height": 323
        },
        "outputId": "7fd87c28-7c61-409f-c722-63fec0ca656b"
      },
      "source": [
        "# Corporations Questionnaire\n",
        "corp_q_id = '11Ax7FfLRBKqAyGc_ctieDp5BjlI5pPqa'\n",
        "corp_q_file = my_drive.CreateFile({'id':corp_q_id}) \n",
        "corp_q_file.GetContentFile('corp_q.csv')\n",
        "corp_q_df = pd.read_csv('corp_q.csv', encoding='latin1')\n",
        "print(corp_q_df.shape)\n",
        "corp_q_df.head()"
      ],
      "execution_count": null,
      "outputs": [
        {
          "output_type": "stream",
          "text": [
            "(747904, 10)\n"
          ],
          "name": "stdout"
        },
        {
          "output_type": "execute_result",
          "data": {
            "text/html": [
              "<div>\n",
              "<style scoped>\n",
              "    .dataframe tbody tr th:only-of-type {\n",
              "        vertical-align: middle;\n",
              "    }\n",
              "\n",
              "    .dataframe tbody tr th {\n",
              "        vertical-align: top;\n",
              "    }\n",
              "\n",
              "    .dataframe thead th {\n",
              "        text-align: right;\n",
              "    }\n",
              "</style>\n",
              "<table border=\"1\" class=\"dataframe\">\n",
              "  <thead>\n",
              "    <tr style=\"text-align: right;\">\n",
              "      <th></th>\n",
              "      <th>Project Year</th>\n",
              "      <th>Account Number</th>\n",
              "      <th>Account Name</th>\n",
              "      <th>Question Number</th>\n",
              "      <th>Question Name</th>\n",
              "      <th>Row Number</th>\n",
              "      <th>Row Name</th>\n",
              "      <th>Column Number</th>\n",
              "      <th>Column Name</th>\n",
              "      <th>Response Answer</th>\n",
              "    </tr>\n",
              "  </thead>\n",
              "  <tbody>\n",
              "    <tr>\n",
              "      <th>0</th>\n",
              "      <td>2018</td>\n",
              "      <td>285</td>\n",
              "      <td>3M Company</td>\n",
              "      <td>CC0.1</td>\n",
              "      <td>Give a general description and introduction to...</td>\n",
              "      <td>0.0</td>\n",
              "      <td>NaN</td>\n",
              "      <td>C0</td>\n",
              "      <td>NaN</td>\n",
              "      <td>3M is a global science company committed to in...</td>\n",
              "    </tr>\n",
              "    <tr>\n",
              "      <th>1</th>\n",
              "      <td>2018</td>\n",
              "      <td>64</td>\n",
              "      <td>Abbott Laboratories</td>\n",
              "      <td>CC0.1</td>\n",
              "      <td>Give a general description and introduction to...</td>\n",
              "      <td>0.0</td>\n",
              "      <td>NaN</td>\n",
              "      <td>C0</td>\n",
              "      <td>NaN</td>\n",
              "      <td>Abbott is a global healthcare company that hel...</td>\n",
              "    </tr>\n",
              "    <tr>\n",
              "      <th>2</th>\n",
              "      <td>2018</td>\n",
              "      <td>45103</td>\n",
              "      <td>AbbVie Inc</td>\n",
              "      <td>CC0.1</td>\n",
              "      <td>Give a general description and introduction to...</td>\n",
              "      <td>0.0</td>\n",
              "      <td>NaN</td>\n",
              "      <td>C0</td>\n",
              "      <td>NaN</td>\n",
              "      <td>AbbVie is a global, research-driven biopharmac...</td>\n",
              "    </tr>\n",
              "    <tr>\n",
              "      <th>3</th>\n",
              "      <td>2018</td>\n",
              "      <td>291</td>\n",
              "      <td>Abercrombie &amp; Fitch Co.</td>\n",
              "      <td>CC0.1</td>\n",
              "      <td>Give a general description and introduction to...</td>\n",
              "      <td>0.0</td>\n",
              "      <td>NaN</td>\n",
              "      <td>C0</td>\n",
              "      <td>NaN</td>\n",
              "      <td>Abercrombie &amp; Fitch Co. (''A&amp;F ), a company i...</td>\n",
              "    </tr>\n",
              "    <tr>\n",
              "      <th>4</th>\n",
              "      <td>2018</td>\n",
              "      <td>58</td>\n",
              "      <td>ABM INDUSTRIES INC</td>\n",
              "      <td>CC0.1</td>\n",
              "      <td>Give a general description and introduction to...</td>\n",
              "      <td>0.0</td>\n",
              "      <td>NaN</td>\n",
              "      <td>C0</td>\n",
              "      <td>NaN</td>\n",
              "      <td>Building Value With Integrated Facilities Solu...</td>\n",
              "    </tr>\n",
              "  </tbody>\n",
              "</table>\n",
              "</div>"
            ],
            "text/plain": [
              "   Project Year  ...                                    Response Answer\n",
              "0          2018  ...  3M is a global science company committed to in...\n",
              "1          2018  ...  Abbott is a global healthcare company that hel...\n",
              "2          2018  ...  AbbVie is a global, research-driven biopharmac...\n",
              "3          2018  ...  Abercrombie & Fitch Co. (''A&F ), a company i...\n",
              "4          2018  ...  Building Value With Integrated Facilities Solu...\n",
              "\n",
              "[5 rows x 10 columns]"
            ]
          },
          "metadata": {
            "tags": []
          },
          "execution_count": 5
        }
      ]
    },
    {
      "cell_type": "code",
      "metadata": {
        "id": "HCIXHHxFMlJu",
        "colab": {
          "base_uri": "https://localhost:8080/",
          "height": 425
        },
        "outputId": "c29ca41e-3b06-4790-b997-35cc2df8af71"
      },
      "source": [
        "# Data Catalog (contains metadata & links from all datasets)\n",
        "data_catalog_id = '1llkhxscCNYR1CE9LgRPBngVwuC2SP0ab'\n",
        "data_catalog_file = my_drive.CreateFile({'id':data_catalog_id}) \n",
        "data_catalog_file.GetContentFile('data_catalog.csv')\n",
        "data_catalog_df = pd.read_csv('data_catalog.csv', encoding='latin1')\n",
        "print(data_catalog_df.shape)\n",
        "data_catalog_df.head()"
      ],
      "execution_count": null,
      "outputs": [
        {
          "output_type": "stream",
          "text": [
            "(314, 14)\n"
          ],
          "name": "stdout"
        },
        {
          "output_type": "execute_result",
          "data": {
            "text/html": [
              "<div>\n",
              "<style scoped>\n",
              "    .dataframe tbody tr th:only-of-type {\n",
              "        vertical-align: middle;\n",
              "    }\n",
              "\n",
              "    .dataframe tbody tr th {\n",
              "        vertical-align: top;\n",
              "    }\n",
              "\n",
              "    .dataframe thead th {\n",
              "        text-align: right;\n",
              "    }\n",
              "</style>\n",
              "<table border=\"1\" class=\"dataframe\">\n",
              "  <thead>\n",
              "    <tr style=\"text-align: right;\">\n",
              "      <th></th>\n",
              "      <th>ï»¿CDP Dataset Source File Name</th>\n",
              "      <th>Project Name</th>\n",
              "      <th>Datapoint Theme</th>\n",
              "      <th>2019 Question Number</th>\n",
              "      <th>2019 Question Name</th>\n",
              "      <th>Use</th>\n",
              "      <th>2019 Row Number</th>\n",
              "      <th>2019 Row Name</th>\n",
              "      <th>2019 Column Number</th>\n",
              "      <th>2019 Column Name</th>\n",
              "      <th>Comparable 2018 datapoint provided</th>\n",
              "      <th>Comparable 2017 datapoint provided</th>\n",
              "      <th>Comparable 2016 datapoint provided</th>\n",
              "      <th>Comparable 2015 datapoint provided</th>\n",
              "    </tr>\n",
              "  </thead>\n",
              "  <tbody>\n",
              "    <tr>\n",
              "      <th>0</th>\n",
              "      <td>Cities_Data_2017-2019_mb2.cv</td>\n",
              "      <td>Cities</td>\n",
              "      <td>City details</td>\n",
              "      <td>0.1</td>\n",
              "      <td>Please give a general description and introduc...</td>\n",
              "      <td>0</td>\n",
              "      <td>1.0</td>\n",
              "      <td>City boundary</td>\n",
              "      <td>1</td>\n",
              "      <td>Administrative boundary</td>\n",
              "      <td>0.1</td>\n",
              "      <td>0.1</td>\n",
              "      <td>NaN</td>\n",
              "      <td>NaN</td>\n",
              "    </tr>\n",
              "    <tr>\n",
              "      <th>1</th>\n",
              "      <td>Cities_Data_2017-2019_mb2.cv</td>\n",
              "      <td>Cities</td>\n",
              "      <td>City details</td>\n",
              "      <td>0.1</td>\n",
              "      <td>Please give a general description and introduc...</td>\n",
              "      <td>1</td>\n",
              "      <td>1.0</td>\n",
              "      <td>City boundary</td>\n",
              "      <td>2</td>\n",
              "      <td>Description of city</td>\n",
              "      <td>0.1</td>\n",
              "      <td>0.1</td>\n",
              "      <td>NaN</td>\n",
              "      <td>NaN</td>\n",
              "    </tr>\n",
              "    <tr>\n",
              "      <th>2</th>\n",
              "      <td>Cities_Data_2017-2019_mb2.cv</td>\n",
              "      <td>Cities</td>\n",
              "      <td>City details</td>\n",
              "      <td>0.2</td>\n",
              "      <td>If you have not previously submitted your Lett...</td>\n",
              "      <td>0</td>\n",
              "      <td>0.0</td>\n",
              "      <td>NaN</td>\n",
              "      <td>NaN</td>\n",
              "      <td>NaN</td>\n",
              "      <td>0.2</td>\n",
              "      <td>0.2</td>\n",
              "      <td>NaN</td>\n",
              "      <td>NaN</td>\n",
              "    </tr>\n",
              "    <tr>\n",
              "      <th>3</th>\n",
              "      <td>Cities_Data_2017-2019_mb2.cv</td>\n",
              "      <td>Cities</td>\n",
              "      <td>City details</td>\n",
              "      <td>0.3</td>\n",
              "      <td>Please provide information about your cityâs...</td>\n",
              "      <td>0</td>\n",
              "      <td>1.0</td>\n",
              "      <td>Please complete</td>\n",
              "      <td>1</td>\n",
              "      <td>Leader title</td>\n",
              "      <td>0.3</td>\n",
              "      <td>0.3</td>\n",
              "      <td>NaN</td>\n",
              "      <td>NaN</td>\n",
              "    </tr>\n",
              "    <tr>\n",
              "      <th>4</th>\n",
              "      <td>Cities_Data_2017-2019_mb2.cv</td>\n",
              "      <td>Cities</td>\n",
              "      <td>City details</td>\n",
              "      <td>0.3</td>\n",
              "      <td>Please provide information about your cityâs...</td>\n",
              "      <td>0</td>\n",
              "      <td>1.0</td>\n",
              "      <td>Please complete</td>\n",
              "      <td>2</td>\n",
              "      <td>Leader name</td>\n",
              "      <td>0.3</td>\n",
              "      <td>0.3</td>\n",
              "      <td>NaN</td>\n",
              "      <td>NaN</td>\n",
              "    </tr>\n",
              "  </tbody>\n",
              "</table>\n",
              "</div>"
            ],
            "text/plain": [
              "  ï»¿CDP Dataset Source File Name  ... Comparable 2015 datapoint provided\n",
              "0    Cities_Data_2017-2019_mb2.cv  ...                                NaN\n",
              "1    Cities_Data_2017-2019_mb2.cv  ...                                NaN\n",
              "2    Cities_Data_2017-2019_mb2.cv  ...                                NaN\n",
              "3    Cities_Data_2017-2019_mb2.cv  ...                                NaN\n",
              "4    Cities_Data_2017-2019_mb2.cv  ...                                NaN\n",
              "\n",
              "[5 rows x 14 columns]"
            ]
          },
          "metadata": {
            "tags": []
          },
          "execution_count": 6
        }
      ]
    },
    {
      "cell_type": "markdown",
      "metadata": {
        "id": "yK2VwRfDNSIe"
      },
      "source": [
        "## Clean Data\n",
        "\n",
        "Filters:\n",
        "\n",
        "\n",
        "*   2019 Questions\n",
        "*   Recommended Challenge 1 Questions w/ Themes City/Company details & Climate-related targets and goals\n",
        "*   Free text questions (manually identified)\n",
        "\n",
        "\n",
        "\n",
        "\n"
      ]
    },
    {
      "cell_type": "code",
      "metadata": {
        "id": "hrhR1RVHNRL2",
        "colab": {
          "base_uri": "https://localhost:8080/",
          "height": 751
        },
        "outputId": "07f21538-a9ce-40e8-8fd1-17e642f0aff9"
      },
      "source": [
        "\n",
        "catalog_cols = ['Project Name', 'Datapoint Theme', '2019 Question Number', '2019 Question Name', '2019 Row Number', '2019 Row Name', '2019 Column Number', '2019 Column Name']\n",
        "data_catalog_rec_df = data_catalog_df.loc[(data_catalog_df['Use'] == 1) & \n",
        "                                          (data_catalog_df['Datapoint Theme'].isin(['City details', 'Climate-related targets and goals', 'Company details', 'Climate targets and goals'])), \n",
        "                                          catalog_cols]\n",
        "\n",
        "cities_q_rec_2019_df = cities_q_df[cities_q_df['Project Year'] == 2019].merge(data_catalog_rec_df, \n",
        "                                         left_on = ['Question Number', 'Column Number'],\n",
        "                                         right_on = ['2019 Question Number', '2019 Column Number'])\n",
        "cities_q_rec_2019_df['Account Type'] = \"City\"\n",
        "\n",
        "corp_q_rec_2019_df = corp_q_df[corp_q_df['Project Year'] == 2019].merge(data_catalog_rec_df, \n",
        "                                     left_on = ['Question Number', 'Column Number'],\n",
        "                                     right_on = ['2019 Question Number', '2019 Column Number'])\n",
        "corp_q_rec_2019_df['Account Type'] = \"Corporation\"\n",
        "\n",
        "\n",
        "#cities_q_rec_2019_df.head()\n",
        "print(\"\\nNumber of Relevant Responses: \" + str(cities_q_rec_2019_df.shape[0] + corp_q_rec_2019_df.shape[0]))\n",
        "print(\"\\nRelevant City Questions: \" + \"\\n\\t- \" + \"\\n\\t- \".join(cities_q_rec_2019_df['Question Name'].unique()))\n",
        "print(\"\\nRelevant Corp Questions: \" + \"\\n\\t- \" + \"\\n\\t- \".join(corp_q_rec_2019_df['Question Name'].unique()))\n",
        "\n",
        "#distinct_entries = cities_q_rec_2019_df[['Question Number','Question Name', 'Row Number', 'Row Name', 'Column Number', 'Column Name']].drop_duplicates()\n",
        "#print(\"\\nNumber of Distinct Questions: \", distinct_entries.shape[0])\n",
        "#distinct_entries.head(31)\n",
        "\n",
        "data_cols = ['Account Type', 'Account Number', 'Account Name', 'Question Number', \n",
        "             'Question Name', 'Row Number', 'Row Name', 'Column Number', \n",
        "             'Column Name', 'Response Answer']\n",
        "\n",
        "# union dataframes\n",
        "q_rec_2019_df = pd.concat([cities_q_rec_2019_df[data_cols],corp_q_rec_2019_df[data_cols]])\n",
        "\n",
        "num_cities_with_text_responses = q_rec_2019_df.loc[q_rec_2019_df['Account Type'] == \"City\", 'Account Number'].drop_duplicates().shape[0]\n",
        "num_corps_with_text_responses = q_rec_2019_df.loc[q_rec_2019_df['Account Type'] == \"Corporation\", 'Account Number'].drop_duplicates().shape[0]\n",
        "\n",
        "print(\"\\nNumber of Cities w/ Text Responses: \" + str(num_cities_with_text_responses))\n",
        "print(\"\\nNumber of Corporations w/ Text Responses: \" + str(num_corps_with_text_responses))\n",
        "\n",
        "print(\"\\nCombined Data Frame:\")\n",
        "q_rec_2019_df.head()"
      ],
      "execution_count": null,
      "outputs": [
        {
          "output_type": "stream",
          "text": [
            "\n",
            "Number of Relevant Responses: 19433\n",
            "\n",
            "Relevant City Questions: \n",
            "\t- Please give a general description and introduction to your city including your citys reporting boundary in the table below.\n",
            "\t- Please provide details of your total city-wide base year intensity target. An intensity target is usually measured per capita or per unit GDP. If you have an absolute emissions reduction target, please select Base year emissions (absolute) target in question 5.0.\n",
            "\t- Please provide details of your total city-wide base year emissions reduction (absolute) target. In addition, you may add rows to provide details of your sector-specific targets, by providing the base year emissions specific to that target.\n",
            "\t- Please provide details of your total fixed level target.\n",
            "\t- Please provide details of your total city-wide baseline scenario target, including projected business as usual emissions.\n",
            "\n",
            "Relevant Corp Questions: \n",
            "\t- Give a general description and introduction to your organization.\n",
            "\t- Why did you not have any emissions reduction initiatives active during the reporting year?\n",
            "\t- Provide details of your absolute emissions target(s) and progress made against those targets. \n",
            "\t- Provide details of your emissions intensity target(s) and progress made against those target(s). \n",
            "\t- Explain why you do not have emissions target and forecast how your emissions will change over the next five years. \n",
            "\t- Provide details of other key climate-related targets not already reported in question C4.1/a/b.\n",
            "\t- Provide details on the initiatives implemented in the reporting year in the table below.\n",
            "\t- What methods do you use to drive investment in emissions reduction activities? \n",
            "\n",
            "Number of Cities w/ Text Responses: 25\n",
            "\n",
            "Number of Corporations w/ Text Responses: 963\n",
            "\n",
            "Combined Data Frame:\n"
          ],
          "name": "stdout"
        },
        {
          "output_type": "execute_result",
          "data": {
            "text/html": [
              "<div>\n",
              "<style scoped>\n",
              "    .dataframe tbody tr th:only-of-type {\n",
              "        vertical-align: middle;\n",
              "    }\n",
              "\n",
              "    .dataframe tbody tr th {\n",
              "        vertical-align: top;\n",
              "    }\n",
              "\n",
              "    .dataframe thead th {\n",
              "        text-align: right;\n",
              "    }\n",
              "</style>\n",
              "<table border=\"1\" class=\"dataframe\">\n",
              "  <thead>\n",
              "    <tr style=\"text-align: right;\">\n",
              "      <th></th>\n",
              "      <th>Account Type</th>\n",
              "      <th>Account Number</th>\n",
              "      <th>Account Name</th>\n",
              "      <th>Question Number</th>\n",
              "      <th>Question Name</th>\n",
              "      <th>Row Number</th>\n",
              "      <th>Row Name</th>\n",
              "      <th>Column Number</th>\n",
              "      <th>Column Name</th>\n",
              "      <th>Response Answer</th>\n",
              "    </tr>\n",
              "  </thead>\n",
              "  <tbody>\n",
              "    <tr>\n",
              "      <th>0</th>\n",
              "      <td>City</td>\n",
              "      <td>58485</td>\n",
              "      <td>Abington Township</td>\n",
              "      <td>0.1</td>\n",
              "      <td>Please give a general description and introduc...</td>\n",
              "      <td>1.0</td>\n",
              "      <td>City boundary</td>\n",
              "      <td>2</td>\n",
              "      <td>Description of city</td>\n",
              "      <td>Abington Township is the 52nd certified STAR C...</td>\n",
              "    </tr>\n",
              "    <tr>\n",
              "      <th>1</th>\n",
              "      <td>City</td>\n",
              "      <td>55799</td>\n",
              "      <td>Arlington, VA</td>\n",
              "      <td>0.1</td>\n",
              "      <td>Please give a general description and introduc...</td>\n",
              "      <td>1.0</td>\n",
              "      <td>City boundary</td>\n",
              "      <td>2</td>\n",
              "      <td>Description of city</td>\n",
              "      <td>Arlington Va., is a world-class residential, b...</td>\n",
              "    </tr>\n",
              "    <tr>\n",
              "      <th>2</th>\n",
              "      <td>City</td>\n",
              "      <td>74414</td>\n",
              "      <td>Boulder County</td>\n",
              "      <td>0.1</td>\n",
              "      <td>Please give a general description and introduc...</td>\n",
              "      <td>1.0</td>\n",
              "      <td>City boundary</td>\n",
              "      <td>2</td>\n",
              "      <td>Description of city</td>\n",
              "      <td>Located in north-central Colorado, northwest o...</td>\n",
              "    </tr>\n",
              "    <tr>\n",
              "      <th>3</th>\n",
              "      <td>City</td>\n",
              "      <td>63941</td>\n",
              "      <td>Broward County, FL</td>\n",
              "      <td>0.1</td>\n",
              "      <td>Please give a general description and introduc...</td>\n",
              "      <td>1.0</td>\n",
              "      <td>City boundary</td>\n",
              "      <td>2</td>\n",
              "      <td>Description of city</td>\n",
              "      <td>Broward County, Florida</td>\n",
              "    </tr>\n",
              "    <tr>\n",
              "      <th>4</th>\n",
              "      <td>City</td>\n",
              "      <td>49339</td>\n",
              "      <td>City and County of Honolulu</td>\n",
              "      <td>0.1</td>\n",
              "      <td>Please give a general description and introduc...</td>\n",
              "      <td>1.0</td>\n",
              "      <td>City boundary</td>\n",
              "      <td>2</td>\n",
              "      <td>Description of city</td>\n",
              "      <td>Established by city charter in 1907, the City ...</td>\n",
              "    </tr>\n",
              "  </tbody>\n",
              "</table>\n",
              "</div>"
            ],
            "text/plain": [
              "  Account Type  ...                                    Response Answer\n",
              "0         City  ...  Abington Township is the 52nd certified STAR C...\n",
              "1         City  ...  Arlington Va., is a world-class residential, b...\n",
              "2         City  ...  Located in north-central Colorado, northwest o...\n",
              "3         City  ...                            Broward County, Florida\n",
              "4         City  ...  Established by city charter in 1907, the City ...\n",
              "\n",
              "[5 rows x 10 columns]"
            ]
          },
          "metadata": {
            "tags": []
          },
          "execution_count": 7
        }
      ]
    },
    {
      "cell_type": "markdown",
      "metadata": {
        "id": "w6R6ICuJBmQA"
      },
      "source": [
        "Concatenate all relevant text responses by Account to get one long text response.\n",
        "\n",
        "\n",
        "\n"
      ]
    },
    {
      "cell_type": "code",
      "metadata": {
        "id": "34sqFg5uCO1j",
        "colab": {
          "base_uri": "https://localhost:8080/",
          "height": 204
        },
        "outputId": "68d04344-4539-45e9-8196-75c5701f7d38"
      },
      "source": [
        "q_rec_2019_df['Response Answer'] = q_rec_2019_df['Response Answer'].astype('str')\n",
        "#q_rec_2019_df['Response Answer'] = q_rec_2019_df['Response Answer'].str.lower()\n",
        "\n",
        "groupby_cols = ['Account Type', 'Account Number', 'Account Name']\n",
        "df2 = q_rec_2019_df.sort_values(by='Row Number').groupby(groupby_cols)['Response Answer'].apply('. '.join).reset_index()\n",
        "\n",
        "df2.head()"
      ],
      "execution_count": null,
      "outputs": [
        {
          "output_type": "execute_result",
          "data": {
            "text/html": [
              "<div>\n",
              "<style scoped>\n",
              "    .dataframe tbody tr th:only-of-type {\n",
              "        vertical-align: middle;\n",
              "    }\n",
              "\n",
              "    .dataframe tbody tr th {\n",
              "        vertical-align: top;\n",
              "    }\n",
              "\n",
              "    .dataframe thead th {\n",
              "        text-align: right;\n",
              "    }\n",
              "</style>\n",
              "<table border=\"1\" class=\"dataframe\">\n",
              "  <thead>\n",
              "    <tr style=\"text-align: right;\">\n",
              "      <th></th>\n",
              "      <th>Account Type</th>\n",
              "      <th>Account Number</th>\n",
              "      <th>Account Name</th>\n",
              "      <th>Response Answer</th>\n",
              "    </tr>\n",
              "  </thead>\n",
              "  <tbody>\n",
              "    <tr>\n",
              "      <th>0</th>\n",
              "      <td>City</td>\n",
              "      <td>1093</td>\n",
              "      <td>City of Atlanta</td>\n",
              "      <td>Benchmarking and retrofits for buildings large...</td>\n",
              "    </tr>\n",
              "    <tr>\n",
              "      <th>1</th>\n",
              "      <td>City</td>\n",
              "      <td>1184</td>\n",
              "      <td>City of Austin</td>\n",
              "      <td>Our target is net-zero emissions by 2050 and i...</td>\n",
              "    </tr>\n",
              "    <tr>\n",
              "      <th>2</th>\n",
              "      <td>City</td>\n",
              "      <td>35268</td>\n",
              "      <td>City of Boston</td>\n",
              "      <td>Public facility. Commercial buildings. Residen...</td>\n",
              "    </tr>\n",
              "    <tr>\n",
              "      <th>3</th>\n",
              "      <td>City</td>\n",
              "      <td>35853</td>\n",
              "      <td>City of Baltimore</td>\n",
              "      <td>Key findings by sector provide guidance for wh...</td>\n",
              "    </tr>\n",
              "    <tr>\n",
              "      <th>4</th>\n",
              "      <td>City</td>\n",
              "      <td>37241</td>\n",
              "      <td>City of Berkeley</td>\n",
              "      <td>Public facility. Industrial facilities. Reside...</td>\n",
              "    </tr>\n",
              "  </tbody>\n",
              "</table>\n",
              "</div>"
            ],
            "text/plain": [
              "  Account Type  ...                                    Response Answer\n",
              "0         City  ...  Benchmarking and retrofits for buildings large...\n",
              "1         City  ...  Our target is net-zero emissions by 2050 and i...\n",
              "2         City  ...  Public facility. Commercial buildings. Residen...\n",
              "3         City  ...  Key findings by sector provide guidance for wh...\n",
              "4         City  ...  Public facility. Industrial facilities. Reside...\n",
              "\n",
              "[5 rows x 4 columns]"
            ]
          },
          "metadata": {
            "tags": []
          },
          "execution_count": 8
        }
      ]
    },
    {
      "cell_type": "markdown",
      "metadata": {
        "id": "iRFLoTocPfEp"
      },
      "source": [
        "Use NLTK library to extract tokens from cleaned text"
      ]
    },
    {
      "cell_type": "code",
      "metadata": {
        "id": "7G_h3SJMMhV7",
        "colab": {
          "base_uri": "https://localhost:8080/",
          "height": 85
        },
        "outputId": "832a76ff-aebe-4f86-cf45-4d61ce705c61"
      },
      "source": [
        "from nltk.util import ngrams\n",
        "nltk.download('stopwords')\n",
        "nltk.download('punkt')\n",
        "\n",
        "def initial_clean(text):\n",
        "    \"\"\"\n",
        "    Cleans text using string replace & tokenizes:\n",
        "    - removes websites, emails & any punctuation\n",
        "    - converts to lower case\n",
        "    - removes N/A responses\n",
        "    \"\"\"\n",
        "    text = text.lower() # lower case the text\n",
        "    text = re.sub(\"((\\S+)?(http(s)?)(\\S+))|((\\S+)?(www)(\\S+))|((\\S+)?(\\@)(\\S+)?)\", \" \", text)\n",
        "    text = re.sub(\"[^a-zA-Z ]\", \"\", text)\n",
        "    text = re.sub(\"nan\", \"\", text)\n",
        "    text = re.sub(\"question not applicable\", \"\", text)\n",
        "    text = nltk.word_tokenize(text)\n",
        "    return text\n",
        "\n",
        "stop_words = stopwords.words('english')\n",
        "def remove_stop_words(text):\n",
        "    \"\"\"\n",
        "    Removes all stopwords from tokens\n",
        "    \"\"\"\n",
        "    return [word for word in text if word not in stop_words]\n",
        "\n",
        "stemmer = PorterStemmer()\n",
        "def stem_words(text):\n",
        "    \"\"\"\n",
        "    Converts tokens to stem words, so plural and singular tokens are treated the same\n",
        "    \"\"\"\n",
        "    try:\n",
        "        text = [stemmer.stem(word) for word in text]\n",
        "        text = [word for word in text if len(word) > 1] # exclude 1 letter words\n",
        "    except IndexError: \n",
        "        pass\n",
        "    return text\n",
        "\n",
        "def apply_all(text):\n",
        "    \"\"\"\n",
        "    Applies all cleaning steps to text response\n",
        "    \"\"\"\n",
        "    return stem_words(remove_stop_words(initial_clean(text)))"
      ],
      "execution_count": null,
      "outputs": [
        {
          "output_type": "stream",
          "text": [
            "[nltk_data] Downloading package stopwords to /root/nltk_data...\n",
            "[nltk_data]   Unzipping corpora/stopwords.zip.\n",
            "[nltk_data] Downloading package punkt to /root/nltk_data...\n",
            "[nltk_data]   Unzipping tokenizers/punkt.zip.\n"
          ],
          "name": "stdout"
        }
      ]
    },
    {
      "cell_type": "code",
      "metadata": {
        "id": "y5YODIJ9oEQa",
        "colab": {
          "base_uri": "https://localhost:8080/",
          "height": 221
        },
        "outputId": "08032bf5-1026-4799-edcb-0ddf90d22bf2"
      },
      "source": [
        "t1 = time.time()\n",
        "df2['Tokenized Response Answer'] = df2['Response Answer'].apply(apply_all)\n",
        "t2 = time.time()\n",
        "print(\"Time to clean and tokenize\", len(df2), \"accounts:\", round((t2-t1)/60, 3), \"min\")\n",
        "\n",
        "df2[['Tokenized Response Answer', 'Response Answer']].head()"
      ],
      "execution_count": null,
      "outputs": [
        {
          "output_type": "stream",
          "text": [
            "Time to clean and tokenize 988 accounts: 0.224 min\n"
          ],
          "name": "stdout"
        },
        {
          "output_type": "execute_result",
          "data": {
            "text/html": [
              "<div>\n",
              "<style scoped>\n",
              "    .dataframe tbody tr th:only-of-type {\n",
              "        vertical-align: middle;\n",
              "    }\n",
              "\n",
              "    .dataframe tbody tr th {\n",
              "        vertical-align: top;\n",
              "    }\n",
              "\n",
              "    .dataframe thead th {\n",
              "        text-align: right;\n",
              "    }\n",
              "</style>\n",
              "<table border=\"1\" class=\"dataframe\">\n",
              "  <thead>\n",
              "    <tr style=\"text-align: right;\">\n",
              "      <th></th>\n",
              "      <th>Tokenized Response Answer</th>\n",
              "      <th>Response Answer</th>\n",
              "    </tr>\n",
              "  </thead>\n",
              "  <tbody>\n",
              "    <tr>\n",
              "      <th>0</th>\n",
              "      <td>[benchmark, retrofit, build, larger, sqft, com...</td>\n",
              "      <td>Benchmarking and retrofits for buildings large...</td>\n",
              "    </tr>\n",
              "    <tr>\n",
              "      <th>1</th>\n",
              "      <td>[target, netzero, emiss, allow, baselin, emiss...</td>\n",
              "      <td>Our target is net-zero emissions by 2050 and i...</td>\n",
              "    </tr>\n",
              "    <tr>\n",
              "      <th>2</th>\n",
              "      <td>[public, facil, commerci, build, residenti, bu...</td>\n",
              "      <td>Public facility. Commercial buildings. Residen...</td>\n",
              "    </tr>\n",
              "    <tr>\n",
              "      <th>3</th>\n",
              "      <td>[key, find, sector, provid, guidanc, strategi,...</td>\n",
              "      <td>Key findings by sector provide guidance for wh...</td>\n",
              "    </tr>\n",
              "    <tr>\n",
              "      <th>4</th>\n",
              "      <td>[public, facil, industri, facil, residenti, bu...</td>\n",
              "      <td>Public facility. Industrial facilities. Reside...</td>\n",
              "    </tr>\n",
              "  </tbody>\n",
              "</table>\n",
              "</div>"
            ],
            "text/plain": [
              "                           Tokenized Response Answer                                    Response Answer\n",
              "0  [benchmark, retrofit, build, larger, sqft, com...  Benchmarking and retrofits for buildings large...\n",
              "1  [target, netzero, emiss, allow, baselin, emiss...  Our target is net-zero emissions by 2050 and i...\n",
              "2  [public, facil, commerci, build, residenti, bu...  Public facility. Commercial buildings. Residen...\n",
              "3  [key, find, sector, provid, guidanc, strategi,...  Key findings by sector provide guidance for wh...\n",
              "4  [public, facil, industri, facil, residenti, bu...  Public facility. Industrial facilities. Reside..."
            ]
          },
          "metadata": {
            "tags": []
          },
          "execution_count": 10
        }
      ]
    },
    {
      "cell_type": "markdown",
      "metadata": {
        "id": "WjmL2fe50Pyo"
      },
      "source": [
        "Convert singular tokens to bigrams\n"
      ]
    },
    {
      "cell_type": "code",
      "metadata": {
        "id": "vxFYjHNP7og_",
        "colab": {
          "base_uri": "https://localhost:8080/",
          "height": 238
        },
        "outputId": "4154d590-aeab-4c35-c9c5-ad9b7ab5de11"
      },
      "source": [
        "df2['Response Answer Bigrams'] = df2['Tokenized Response Answer'].apply(lambda x: ['_'.join(i) for i in ngrams(x, 2)])\n",
        "df2.head()"
      ],
      "execution_count": null,
      "outputs": [
        {
          "output_type": "stream",
          "text": [
            "/usr/local/lib/python3.6/dist-packages/ipykernel_launcher.py:1: DeprecationWarning: generator 'ngrams' raised StopIteration\n",
            "  \"\"\"Entry point for launching an IPython kernel.\n"
          ],
          "name": "stderr"
        },
        {
          "output_type": "execute_result",
          "data": {
            "text/html": [
              "<div>\n",
              "<style scoped>\n",
              "    .dataframe tbody tr th:only-of-type {\n",
              "        vertical-align: middle;\n",
              "    }\n",
              "\n",
              "    .dataframe tbody tr th {\n",
              "        vertical-align: top;\n",
              "    }\n",
              "\n",
              "    .dataframe thead th {\n",
              "        text-align: right;\n",
              "    }\n",
              "</style>\n",
              "<table border=\"1\" class=\"dataframe\">\n",
              "  <thead>\n",
              "    <tr style=\"text-align: right;\">\n",
              "      <th></th>\n",
              "      <th>Account Type</th>\n",
              "      <th>Account Number</th>\n",
              "      <th>Account Name</th>\n",
              "      <th>Response Answer</th>\n",
              "      <th>Tokenized Response Answer</th>\n",
              "      <th>Response Answer Bigrams</th>\n",
              "    </tr>\n",
              "  </thead>\n",
              "  <tbody>\n",
              "    <tr>\n",
              "      <th>0</th>\n",
              "      <td>City</td>\n",
              "      <td>1093</td>\n",
              "      <td>City of Atlanta</td>\n",
              "      <td>Benchmarking and retrofits for buildings large...</td>\n",
              "      <td>[benchmark, retrofit, build, larger, sqft, com...</td>\n",
              "      <td>[benchmark_retrofit, retrofit_build, build_lar...</td>\n",
              "    </tr>\n",
              "    <tr>\n",
              "      <th>1</th>\n",
              "      <td>City</td>\n",
              "      <td>1184</td>\n",
              "      <td>City of Austin</td>\n",
              "      <td>Our target is net-zero emissions by 2050 and i...</td>\n",
              "      <td>[target, netzero, emiss, allow, baselin, emiss...</td>\n",
              "      <td>[target_netzero, netzero_emiss, emiss_allow, a...</td>\n",
              "    </tr>\n",
              "    <tr>\n",
              "      <th>2</th>\n",
              "      <td>City</td>\n",
              "      <td>35268</td>\n",
              "      <td>City of Boston</td>\n",
              "      <td>Public facility. Commercial buildings. Residen...</td>\n",
              "      <td>[public, facil, commerci, build, residenti, bu...</td>\n",
              "      <td>[public_facil, facil_commerci, commerci_build,...</td>\n",
              "    </tr>\n",
              "    <tr>\n",
              "      <th>3</th>\n",
              "      <td>City</td>\n",
              "      <td>35853</td>\n",
              "      <td>City of Baltimore</td>\n",
              "      <td>Key findings by sector provide guidance for wh...</td>\n",
              "      <td>[key, find, sector, provid, guidanc, strategi,...</td>\n",
              "      <td>[key_find, find_sector, sector_provid, provid_...</td>\n",
              "    </tr>\n",
              "    <tr>\n",
              "      <th>4</th>\n",
              "      <td>City</td>\n",
              "      <td>37241</td>\n",
              "      <td>City of Berkeley</td>\n",
              "      <td>Public facility. Industrial facilities. Reside...</td>\n",
              "      <td>[public, facil, industri, facil, residenti, bu...</td>\n",
              "      <td>[public_facil, facil_industri, industri_facil,...</td>\n",
              "    </tr>\n",
              "  </tbody>\n",
              "</table>\n",
              "</div>"
            ],
            "text/plain": [
              "  Account Type  ...                            Response Answer Bigrams\n",
              "0         City  ...  [benchmark_retrofit, retrofit_build, build_lar...\n",
              "1         City  ...  [target_netzero, netzero_emiss, emiss_allow, a...\n",
              "2         City  ...  [public_facil, facil_commerci, commerci_build,...\n",
              "3         City  ...  [key_find, find_sector, sector_provid, provid_...\n",
              "4         City  ...  [public_facil, facil_industri, industri_facil,...\n",
              "\n",
              "[5 rows x 6 columns]"
            ]
          },
          "metadata": {
            "tags": []
          },
          "execution_count": 11
        }
      ]
    },
    {
      "cell_type": "markdown",
      "metadata": {
        "id": "Gg-dKKZWphox"
      },
      "source": [
        "Filter corpus by word frequency"
      ]
    },
    {
      "cell_type": "code",
      "metadata": {
        "id": "CY_oiejvphUT",
        "colab": {
          "base_uri": "https://localhost:8080/",
          "height": 51
        },
        "outputId": "fd06bf7c-71c7-42a5-bc7e-d6678c6a72bf"
      },
      "source": [
        "# Use NLTK fdist to get a frequency distribution of all words\n",
        "all_words = [word for item in list(df2['Tokenized Response Answer']) for word in item]\n",
        "fdist = FreqDist(all_words)\n",
        "print(\"Number of unique words: \", len(fdist)) \n",
        "\n",
        "all_bigrams = [word for item in list(df2['Response Answer Bigrams']) for word in item]\n",
        "# use nltk fdist to get a frequency distribution of all words\n",
        "fdist2 = FreqDist(all_bigrams)\n",
        "print(\"Number of unique bigrams: \", len(fdist2)) "
      ],
      "execution_count": null,
      "outputs": [
        {
          "output_type": "stream",
          "text": [
            "Number of unique words:  15256\n",
            "Number of unique bigrams:  176569\n"
          ],
          "name": "stdout"
        }
      ]
    },
    {
      "cell_type": "code",
      "metadata": {
        "id": "l8r44YDLpvG3",
        "colab": {
          "base_uri": "https://localhost:8080/",
          "height": 187
        },
        "outputId": "242c7055-a25e-4b4e-ba65-d85b916a4014"
      },
      "source": [
        "# choose k and visually inspect the bottom 10 words of the top k\n",
        "k = 50000\n",
        "top_k_words = fdist2.most_common(k)\n",
        "top_k_words[-10:]"
      ],
      "execution_count": null,
      "outputs": [
        {
          "output_type": "execute_result",
          "data": {
            "text/plain": [
              "[('amount_conting', 1),\n",
              " ('conting_fuel', 1),\n",
              " ('requir_flight', 1),\n",
              " ('flight_air', 1),\n",
              " ('intern_air', 1),\n",
              " ('collect_achiev', 1),\n",
              " ('canada_via', 1),\n",
              " ('via_nation', 1),\n",
              " ('endors_collect', 1),\n",
              " ('collect_target', 1)]"
            ]
          },
          "metadata": {
            "tags": []
          },
          "execution_count": 13
        }
      ]
    },
    {
      "cell_type": "code",
      "metadata": {
        "id": "VyOOFZNvpyzS",
        "colab": {
          "base_uri": "https://localhost:8080/",
          "height": 187
        },
        "outputId": "d2af808a-169f-4ac0-bf17-ead6e093ca4b"
      },
      "source": [
        "# choose k and visually inspect the bottom 10 words of the top k\n",
        "k = 6000\n",
        "top_k_words = fdist2.most_common(k)\n",
        "top_k_words[-10:]"
      ],
      "execution_count": null,
      "outputs": [
        {
          "output_type": "execute_result",
          "data": {
            "text/plain": [
              "[('technolog_industri', 6),\n",
              " ('purchas_percent', 6),\n",
              " ('th_year', 6),\n",
              " ('annual_absolut', 6),\n",
              " ('sourc_compani', 6),\n",
              " ('help_employe', 6),\n",
              " ('offic_provid', 6),\n",
              " ('organ_around', 6),\n",
              " ('countri_worldwid', 6),\n",
              " ('two_oper', 6)]"
            ]
          },
          "metadata": {
            "tags": []
          },
          "execution_count": 14
        }
      ]
    },
    {
      "cell_type": "code",
      "metadata": {
        "id": "Hv3Sl7xYq1Er"
      },
      "source": [
        "top_k_words,_ = zip(*fdist2.most_common(k))\n",
        "top_k_words = set(top_k_words)\n",
        "def keep_top_k_words(text):\n",
        "  \"\"\"Returns only the top k words.\"\"\"\n",
        "  return [word for word in text if word in top_k_words]"
      ],
      "execution_count": null,
      "outputs": []
    },
    {
      "cell_type": "code",
      "metadata": {
        "id": "UD-OhkcWq5QM"
      },
      "source": [
        "df2['Response Answer Bigrams'] = df2['Response Answer Bigrams'].apply(keep_top_k_words)"
      ],
      "execution_count": null,
      "outputs": []
    },
    {
      "cell_type": "code",
      "metadata": {
        "id": "q_f7h7nqrBIi",
        "colab": {
          "base_uri": "https://localhost:8080/",
          "height": 85
        },
        "outputId": "4c27d5a0-cbd8-4be8-9fb9-7a2b1f884d2a"
      },
      "source": [
        "# Analyze document length\n",
        "df2['Response Length'] = df2['Response Answer Bigrams'].apply(lambda x: len(x))\n",
        "doc_lengths = list(df2['Response Length'])\n",
        "df2.drop(labels='Response Length', axis=1, inplace=True)\n",
        "\n",
        "print(\"length of list:\",len(doc_lengths),\n",
        "      \"\\naverage document length\", np.average(doc_lengths),\n",
        "      \"\\nminimum document length\", min(doc_lengths),\n",
        "      \"\\nmaximum document length\", max(doc_lengths))"
      ],
      "execution_count": null,
      "outputs": [
        {
          "output_type": "stream",
          "text": [
            "length of list: 988 \n",
            "average document length 108.42307692307692 \n",
            "minimum document length 0 \n",
            "maximum document length 941\n"
          ],
          "name": "stdout"
        }
      ]
    },
    {
      "cell_type": "code",
      "metadata": {
        "id": "4GGrpbjnrOWa",
        "colab": {
          "base_uri": "https://localhost:8080/",
          "height": 441
        },
        "outputId": "aef3070d-7312-48b4-b4ea-2b357994e361"
      },
      "source": [
        "# plot a histogram of document length\n",
        "num_bins = 50\n",
        "fig, ax = plt.subplots(figsize=(12,6));\n",
        "# the histogram of the data\n",
        "n, bins, patches = ax.hist(doc_lengths, num_bins)\n",
        "ax.set_xlabel('Document Length (bigrams)', fontsize=15)\n",
        "ax.set_ylabel('Normed Frequency', fontsize=15)\n",
        "ax.grid()\n",
        "ax.set_xticks(np.logspace(start=np.log10(10),stop=np.log10(1000),num=8, base=10.0))\n",
        "plt.xlim(0,1000)\n",
        "ax.plot([np.average(doc_lengths) for i in np.linspace(0.0,0.0035,100)], np.linspace(0.0,0.0035,100), '-',\n",
        "        label='average doc length')\n",
        "ax.legend()\n",
        "ax.grid()\n",
        "fig.tight_layout()\n",
        "plt.show()"
      ],
      "execution_count": null,
      "outputs": [
        {
          "output_type": "display_data",
          "data": {
            "image/png": "[encoded data removed]",
            "text/plain": [
              "<Figure size 864x432 with 1 Axes>"
            ]
          },
          "metadata": {
            "tags": []
          }
        }
      ]
    },
    {
      "cell_type": "code",
      "metadata": {
        "id": "crIdpgUmrsEl",
        "colab": {
          "base_uri": "https://localhost:8080/",
          "height": 34
        },
        "outputId": "3df98ca2-55dd-45e4-d599-05b143bbabb0"
      },
      "source": [
        "from google.colab import drive\n",
        "drive.mount('drive')\n",
        "df2.to_csv('text_responses.csv')\n",
        "!cp text_responses.csv \"drive/My Drive/\""
      ],
      "execution_count": null,
      "outputs": [
        {
          "output_type": "stream",
          "text": [
            "Mounted at drive\n"
          ],
          "name": "stdout"
        }
      ]
    },
    {
      "cell_type": "code",
      "metadata": {
        "id": "jdQQUG1isAk7",
        "colab": {
          "base_uri": "https://localhost:8080/",
          "height": 34
        },
        "outputId": "c25b3078-2258-4e3e-f5af-09a14e953a76"
      },
      "source": [
        "# only keep articles with more than 25 tokens\n",
        "df2 = df2[df2['Response Answer Bigrams'].map(len) >= 25]\n",
        "# ensure all tokenized items are lists\n",
        "df2 = df2[df2['Response Answer Bigrams'].map(type) == list]\n",
        "df2.reset_index(drop=True,inplace=True)\n",
        "print(\"After cleaning and excluding short aticles, the dataframe now has:\", len(df2), \"accounts\")"
      ],
      "execution_count": null,
      "outputs": [
        {
          "output_type": "stream",
          "text": [
            "After cleaning and excluding short aticles, the dataframe now has: 673 accounts\n"
          ],
          "name": "stdout"
        }
      ]
    },
    {
      "cell_type": "code",
      "metadata": {
        "id": "EypIvV5aspJ8",
        "colab": {
          "base_uri": "https://localhost:8080/",
          "height": 204
        },
        "outputId": "dae08fdd-11a3-4737-8ffa-e34dae3c86ce"
      },
      "source": [
        "df2.head()"
      ],
      "execution_count": null,
      "outputs": [
        {
          "output_type": "execute_result",
          "data": {
            "text/html": [
              "<div>\n",
              "<style scoped>\n",
              "    .dataframe tbody tr th:only-of-type {\n",
              "        vertical-align: middle;\n",
              "    }\n",
              "\n",
              "    .dataframe tbody tr th {\n",
              "        vertical-align: top;\n",
              "    }\n",
              "\n",
              "    .dataframe thead th {\n",
              "        text-align: right;\n",
              "    }\n",
              "</style>\n",
              "<table border=\"1\" class=\"dataframe\">\n",
              "  <thead>\n",
              "    <tr style=\"text-align: right;\">\n",
              "      <th></th>\n",
              "      <th>Account Type</th>\n",
              "      <th>Account Number</th>\n",
              "      <th>Account Name</th>\n",
              "      <th>Response Answer</th>\n",
              "      <th>Tokenized Response Answer</th>\n",
              "      <th>Response Answer Bigrams</th>\n",
              "    </tr>\n",
              "  </thead>\n",
              "  <tbody>\n",
              "    <tr>\n",
              "      <th>0</th>\n",
              "      <td>City</td>\n",
              "      <td>35853</td>\n",
              "      <td>City of Baltimore</td>\n",
              "      <td>Key findings by sector provide guidance for wh...</td>\n",
              "      <td>[key, find, sector, provid, guidanc, strategi,...</td>\n",
              "      <td>[futur_emiss, ghg_emiss, emiss_energi, energi_...</td>\n",
              "    </tr>\n",
              "    <tr>\n",
              "      <th>1</th>\n",
              "      <td>City</td>\n",
              "      <td>37241</td>\n",
              "      <td>City of Berkeley</td>\n",
              "      <td>Public facility. Industrial facilities. Reside...</td>\n",
              "      <td>[public, facil, industri, facil, residenti, bu...</td>\n",
              "      <td>[public_facil, industri_facil, residenti_build...</td>\n",
              "    </tr>\n",
              "    <tr>\n",
              "      <th>2</th>\n",
              "      <td>City</td>\n",
              "      <td>49787</td>\n",
              "      <td>City of Benicia</td>\n",
              "      <td>nan. nan. nan. Benicia's commitment to a healt...</td>\n",
              "      <td>[benicia, commit, healthi, environ, resid, goe...</td>\n",
              "      <td>[activ_involv, environment_stewardship, health...</td>\n",
              "    </tr>\n",
              "    <tr>\n",
              "      <th>3</th>\n",
              "      <td>City</td>\n",
              "      <td>52897</td>\n",
              "      <td>City of Aspen</td>\n",
              "      <td>As a part of the community-wide climate action...</td>\n",
              "      <td>[part, communitywid, climat, action, plan, asp...</td>\n",
              "      <td>[climat_action, action_plan, set_target, targe...</td>\n",
              "    </tr>\n",
              "    <tr>\n",
              "      <th>4</th>\n",
              "      <td>City</td>\n",
              "      <td>54092</td>\n",
              "      <td>City of Ann Arbor</td>\n",
              "      <td>This is an ambitious target for our city. Ther...</td>\n",
              "      <td>[ambiti, target, citi, target, subnat, level, ...</td>\n",
              "      <td>[ambiti_target, level_target, unit_state, comm...</td>\n",
              "    </tr>\n",
              "  </tbody>\n",
              "</table>\n",
              "</div>"
            ],
            "text/plain": [
              "  Account Type  ...                            Response Answer Bigrams\n",
              "0         City  ...  [futur_emiss, ghg_emiss, emiss_energi, energi_...\n",
              "1         City  ...  [public_facil, industri_facil, residenti_build...\n",
              "2         City  ...  [activ_involv, environment_stewardship, health...\n",
              "3         City  ...  [climat_action, action_plan, set_target, targe...\n",
              "4         City  ...  [ambiti_target, level_target, unit_state, comm...\n",
              "\n",
              "[5 rows x 6 columns]"
            ]
          },
          "metadata": {
            "tags": []
          },
          "execution_count": 21
        }
      ]
    },
    {
      "cell_type": "markdown",
      "metadata": {
        "id": "kyL9fQ4rs1tq"
      },
      "source": [
        "## Build Topic Models"
      ]
    },
    {
      "cell_type": "code",
      "metadata": {
        "id": "-18CDxxwtB6F"
      },
      "source": [
        "def train_lda(data, num_topics, chunksize=None, alpha='symmetric', eta=None):\n",
        "    \"\"\"\n",
        "    This function trains the lda model\n",
        "    We setup parameters like number of topics, the chunksize to use in Hoffman method\n",
        "    We also do 2 passes of the data since this is a small dataset, so we want the distributions to stabilize\n",
        "\n",
        "    * low alpha means each document is only represented by a small number of topics, and vice versa\n",
        "    * low eta means each topic is only represented by a small number of words, and vice versa\n",
        "    \"\"\"\n",
        "    dictionary = corpora.Dictionary(data['Response Answer Bigrams'])\n",
        "    corpus = [dictionary.doc2bow(doc) for doc in data['Response Answer Bigrams']]\n",
        "    t1 = time.time()\n",
        "    lda = LdaModel(corpus=corpus, num_topics=num_topics, id2word=dictionary,\n",
        "                   alpha=alpha, eta=eta, chunksize=chunksize, minimum_probability=0.0, passes=2)\n",
        "    t2 = time.time()\n",
        "    print(\"Time to train LDA model on \", len(data), \"articles: \", (t2-t1)/60, \"min\")\n",
        "    return dictionary,corpus,lda"
      ],
      "execution_count": null,
      "outputs": []
    },
    {
      "cell_type": "code",
      "metadata": {
        "id": "SAm2zO9muFxx",
        "colab": {
          "base_uri": "https://localhost:8080/",
          "height": 34
        },
        "outputId": "59c0ccf1-1e0d-42f8-b4b6-7e501ce4369c"
      },
      "source": [
        "#dictionary,corpus,lda = train_lda(train_df, 5, chunksize = 30, eta = 0.5e-2, alpha = 1e-2)\n",
        "dictionary,corpus,lda = train_lda(df2, 20, chunksize=100)"
      ],
      "execution_count": null,
      "outputs": [
        {
          "output_type": "stream",
          "text": [
            "Time to train LDA model on  673 articles:  0.024739352862040202 min\n"
          ],
          "name": "stdout"
        }
      ]
    },
    {
      "cell_type": "code",
      "metadata": {
        "id": "2OZlRcn9vXz6",
        "colab": {
          "base_uri": "https://localhost:8080/",
          "height": 717
        },
        "outputId": "d6e011b3-042b-4168-c59a-355888dfcac2"
      },
      "source": [
        "# show_topics method shows the the top num_words contributing to num_topics number of random topics\n",
        "lda.show_topics(num_topics=20, num_words=10)"
      ],
      "execution_count": null,
      "outputs": [
        {
          "output_type": "execute_result",
          "data": {
            "text/plain": [
              "[(0,\n",
              "  '0.038*\"energi_effici\" + 0.029*\"effici_build\" + 0.027*\"build_servic\" + 0.012*\"real_estat\" + 0.012*\"emiss_reduct\" + 0.008*\"cost_save\" + 0.007*\"monetari_save\" + 0.007*\"payback_period\" + 0.007*\"pleas_specifi\" + 0.006*\"employe_commut\"'),\n",
              " (1,\n",
              "  '0.019*\"lowcarbon_energi\" + 0.017*\"solar_pv\" + 0.014*\"energi_instal\" + 0.012*\"purchas_agreement\" + 0.012*\"custom_servic\" + 0.012*\"solar_panel\" + 0.012*\"renew_sourc\" + 0.011*\"renew_energi\" + 0.010*\"purchas_electr\" + 0.009*\"power_purchas\"'),\n",
              " (2,\n",
              "  '0.023*\"emiss_reduct\" + 0.014*\"ghg_emiss\" + 0.010*\"energi_effici\" + 0.007*\"carbon_footprint\" + 0.007*\"process_emiss\" + 0.007*\"climat_chang\" + 0.007*\"north_america\" + 0.007*\"reduct_target\" + 0.006*\"greenhous_ga\" + 0.005*\"per_unit\"'),\n",
              " (3,\n",
              "  '0.016*\"margin_abat\" + 0.016*\"develop_margin\" + 0.016*\"report_program\" + 0.016*\"ghg_intens\" + 0.016*\"instrument_air\" + 0.015*\"evalu_emiss\" + 0.015*\"use_intern\" + 0.014*\"ghg_emiss\" + 0.014*\"capit_power\" + 0.013*\"intens_product\"'),\n",
              " (4,\n",
              "  '0.019*\"energi_effici\" + 0.011*\"pleas_specifi\" + 0.009*\"metric_ton\" + 0.009*\"energi_use\" + 0.009*\"emiss_reduct\" + 0.008*\"renew_energi\" + 0.008*\"effici_build\" + 0.007*\"build_servic\" + 0.007*\"squar_feet\" + 0.007*\"reduc_energi\"'),\n",
              " (5,\n",
              "  '0.029*\"fuel_effici\" + 0.015*\"emiss_reduct\" + 0.015*\"nation_park\" + 0.013*\"water_dispos\" + 0.012*\"cdp_includ\" + 0.012*\"pleas_specifi\" + 0.011*\"fuel_save\" + 0.010*\"wholli_own\" + 0.010*\"carbon_per\" + 0.010*\"social_impact\"'),\n",
              " (6,\n",
              "  '0.014*\"climat_chang\" + 0.011*\"scope_emiss\" + 0.011*\"energi_effici\" + 0.011*\"ghg_emiss\" + 0.008*\"renew_energi\" + 0.007*\"emiss_reduct\" + 0.007*\"ficial_servic\" + 0.007*\"co_ltd\" + 0.006*\"asset_manag\" + 0.006*\"head_offic\"'),\n",
              " (7,\n",
              "  '0.026*\"group_delphi\" + 0.018*\"ficial_feasibl\" + 0.018*\"paper_use\" + 0.017*\"us_food\" + 0.015*\"emiss_oper\" + 0.015*\"climat_chang\" + 0.013*\"aim_maintain\" + 0.013*\"offic_space\" + 0.013*\"chang_busi\" + 0.012*\"esg_report\"'),\n",
              " (8,\n",
              "  '0.045*\"renew_energi\" + 0.018*\"fiscal_year\" + 0.017*\"renew_electr\" + 0.013*\"energi_purchas\" + 0.012*\"purchas_renew\" + 0.011*\"environment_impact\" + 0.009*\"dell_technolog\" + 0.008*\"energi_certif\" + 0.008*\"lowcarbon_energi\" + 0.008*\"inform_technolog\"'),\n",
              " (9,\n",
              "  '0.031*\"energi_effici\" + 0.010*\"effici_build\" + 0.010*\"scope_emiss\" + 0.010*\"build_servic\" + 0.010*\"emiss_reduct\" + 0.009*\"renew_energi\" + 0.008*\"pleas_specifi\" + 0.007*\"base_year\" + 0.005*\"energi_consumpt\" + 0.005*\"metric_ton\"'),\n",
              " (10,\n",
              "  '0.037*\"forwardlook_statement\" + 0.015*\"risk_uncertainti\" + 0.010*\"power_plant\" + 0.009*\"effici_program\" + 0.009*\"electr_gener\" + 0.009*\"hydro_one\" + 0.009*\"electr_vehicl\" + 0.009*\"renew_energi\" + 0.008*\"paperbas_packag\" + 0.008*\"differ_materi\"'),\n",
              " (11,\n",
              "  '0.012*\"oper_control\" + 0.012*\"energi_effici\" + 0.011*\"innov_challeng\" + 0.011*\"lowest_ghg\" + 0.011*\"billion_asset\" + 0.011*\"train_program\" + 0.010*\"hotel_resort\" + 0.009*\"project_develop\" + 0.009*\"new_emiss\" + 0.009*\"move_forward\"'),\n",
              " (12,\n",
              "  '0.084*\"natur_ga\" + 0.044*\"emiss_reduct\" + 0.021*\"tonn_coe\" + 0.012*\"methan_emiss\" + 0.011*\"process_emiss\" + 0.010*\"fugit_emiss\" + 0.010*\"metric_tonn\" + 0.009*\"oil_ga\" + 0.007*\"elk_hill\" + 0.006*\"approxim_million\"'),\n",
              " (13,\n",
              "  '0.046*\"energi_effici\" + 0.032*\"effici_process\" + 0.015*\"process_optim\" + 0.013*\"compress_air\" + 0.012*\"greenhous_ga\" + 0.010*\"effici_build\" + 0.009*\"energi_intens\" + 0.008*\"build_servic\" + 0.007*\"manufactur_facil\" + 0.007*\"design_manufactur\"'),\n",
              " (14,\n",
              "  '0.027*\"ghg_emiss\" + 0.016*\"emiss_reduct\" + 0.010*\"reduct_target\" + 0.009*\"reduct_measur\" + 0.009*\"emiss_normal\" + 0.009*\"energi_effici\" + 0.008*\"longterm_goal\" + 0.008*\"initi_drive\" + 0.007*\"reduct_goal\" + 0.007*\"scope_ghg\"'),\n",
              " (15,\n",
              "  '0.028*\"suppli_chain\" + 0.023*\"manag_servic\" + 0.021*\"fuch_group\" + 0.020*\"servic_includ\" + 0.019*\"servic_provid\" + 0.016*\"product_compani\" + 0.014*\"provid_servic\" + 0.013*\"year_lowcarbon\" + 0.013*\"unit_state\" + 0.012*\"project_manag\"'),\n",
              " (16,\n",
              "  '0.020*\"water_wast\" + 0.018*\"target_appli\" + 0.017*\"energi_water\" + 0.014*\"minim_environment\" + 0.012*\"leas_asset\" + 0.012*\"light_system\" + 0.011*\"custom_relationship\" + 0.010*\"site_includ\" + 0.010*\"busi_develop\" + 0.009*\"sand_eco\"'),\n",
              " (17,\n",
              "  '0.013*\"ghg_emiss\" + 0.013*\"emiss_reduct\" + 0.011*\"energi_use\" + 0.008*\"coe_per\" + 0.008*\"per_squar\" + 0.008*\"scope_emiss\" + 0.007*\"mt_coe\" + 0.007*\"next_two\" + 0.007*\"emiss_per\" + 0.007*\"intens_target\"'),\n",
              " (18,\n",
              "  '0.016*\"distribut_center\" + 0.015*\"reduct_activ\" + 0.014*\"energi_effici\" + 0.012*\"global_oper\" + 0.011*\"emiss_reduct\" + 0.011*\"carbon_neutral\" + 0.010*\"drive_invest\" + 0.010*\"invest_emiss\" + 0.010*\"own_leas\" + 0.008*\"includ_cdp\"'),\n",
              " (19,\n",
              "  '0.068*\"energi_effici\" + 0.047*\"effici_build\" + 0.043*\"build_servic\" + 0.014*\"effici_process\" + 0.009*\"servic_light\" + 0.008*\"per_metric\" + 0.008*\"servic_energi\" + 0.007*\"pleas_specifi\" + 0.007*\"process_optim\" + 0.006*\"light_energi\"')]"
            ]
          },
          "metadata": {
            "tags": []
          },
          "execution_count": 45
        }
      ]
    },
    {
      "cell_type": "code",
      "metadata": {
        "id": "Z11H4O_8Jyq7"
      },
      "source": [
        "def plot_topic_dist(idx):\n",
        "\n",
        "  bow = dictionary.doc2bow(df2.iloc[idx,5])\n",
        "  doc_distribution = np.array([tup[1] for tup in lda.get_document_topics(bow=bow)])\n",
        "\n",
        "  # bar plot of topic distribution for this document\n",
        "  fig, ax = plt.subplots(figsize=(12,6));\n",
        "\n",
        "  # the histogram of the data\n",
        "  patches = ax.bar(np.arange(len(doc_distribution)), doc_distribution)\n",
        "  ax.set_xlabel('Topic ID', fontsize=15)\n",
        "  ax.set_ylabel('Topic Contribution', fontsize=15)\n",
        "  ax.set_title(\"Topic Distribution for: \" + df2.iloc[idx, 2], fontsize=20)\n",
        "  ax.set_xticks(np.linspace(0,20,5))\n",
        "  fig.tight_layout()\n",
        "  plt.show()"
      ],
      "execution_count": null,
      "outputs": []
    },
    {
      "cell_type": "code",
      "metadata": {
        "id": "DhidxEq3TOUL",
        "colab": {
          "base_uri": "https://localhost:8080/",
          "height": 441
        },
        "outputId": "f4c867dc-8061-43b4-a7cd-8d820c2383da"
      },
      "source": [
        "rand_idx = np.random.randint(len(df2))\n",
        "plot_topic_dist(rand_idx)"
      ],
      "execution_count": null,
      "outputs": [
        {
          "output_type": "display_data",
          "data": {
            "image/png": "[encoded data removed]",
            "text/plain": [
              "<Figure size 864x432 with 1 Axes>"
            ]
          },
          "metadata": {
            "tags": []
          }
        }
      ]
    },
    {
      "cell_type": "code",
      "metadata": {
        "id": "Tsbpog84KVKY",
        "colab": {
          "base_uri": "https://localhost:8080/",
          "height": 34
        },
        "outputId": "27af799e-86df-413b-f5a7-5776836e5e90"
      },
      "source": [
        "# matrix of topic distributions for all \n",
        "doc_topic_dist = np.array([[tup[1] for tup in lst] for lst in lda[corpus]])\n",
        "doc_topic_dist.shape"
      ],
      "execution_count": null,
      "outputs": [
        {
          "output_type": "execute_result",
          "data": {
            "text/plain": [
              "(673, 20)"
            ]
          },
          "metadata": {
            "tags": []
          },
          "execution_count": 54
        }
      ]
    },
    {
      "cell_type": "markdown",
      "metadata": {
        "id": "50rTwkYgTwZ3"
      },
      "source": [
        "## Compute Similarity Scores between Corporate & City Topic Distributions\n"
      ]
    },
    {
      "cell_type": "code",
      "metadata": {
        "id": "2cKHynYrKZSa"
      },
      "source": [
        "from scipy.spatial.distance import jensenshannon\n",
        "\n",
        "def jensen_shannon(query, matrix):\n",
        "  \"\"\" Finds Jensen-Shannon similarity between query account & every account in matrix \"\"\" \n",
        "\n",
        "  return np.array([jensenshannon(p,query) for p in matrix])\n",
        "\n",
        "def get_most_similar_documents(query,matrix,k=10):\n",
        "    \"\"\"\n",
        "    Implements the Jensen-Shannon distance\n",
        "    and returns the top k indices of the smallest jensen shannon distances\n",
        "    \"\"\"\n",
        "    sims = jensen_shannon(query,matrix) # list of jensen shannon distances\n",
        "    return np.argsort(sims)[:k], np.sort(sims)[:k] # the top k positional index of the smallest Jensen Shannon distances"
      ],
      "execution_count": null,
      "outputs": []
    },
    {
      "cell_type": "code",
      "metadata": {
        "id": "03oWouhoKhYi"
      },
      "source": [
        "idx = 0\n",
        "new_bow = dictionary.doc2bow(df2.iloc[idx,5])\n",
        "new_doc_distribution = np.array([tup[1] for tup in lda.get_document_topics(bow=new_bow)])\n",
        "\n",
        "sims = jensen_shannon(new_doc_distribution, doc_topic_dist)\n",
        "most_sim_ids, most_sims_score = get_most_similar_documents(new_doc_distribution, doc_topic_dist)"
      ],
      "execution_count": null,
      "outputs": []
    },
    {
      "cell_type": "code",
      "metadata": {
        "id": "fESu62i7K0Qv",
        "colab": {
          "base_uri": "https://localhost:8080/",
          "height": 34
        },
        "outputId": "8acc1ad3-292e-4652-d9de-5ce90af66461"
      },
      "source": [
        "most_similar_df = df2[df2.index.isin(most_sim_ids[0:3])]\n",
        "most_similar_df['Account Name']\n",
        "most_sims_score[4]"
      ],
      "execution_count": null,
      "outputs": [
        {
          "output_type": "execute_result",
          "data": {
            "text/plain": [
              "0.5243355747356068"
            ]
          },
          "metadata": {
            "tags": []
          },
          "execution_count": 91
        }
      ]
    },
    {
      "cell_type": "code",
      "metadata": {
        "id": "zGbmifcLRqtJ",
        "colab": {
          "base_uri": "https://localhost:8080/",
          "height": 441
        },
        "outputId": "df44ace1-b8c1-4768-992f-71fb8676702d"
      },
      "source": [
        "plot_topic_dist(0)"
      ],
      "execution_count": null,
      "outputs": [
        {
          "output_type": "display_data",
          "data": {
            "image/png": "[encoded data removed]",
            "text/plain": [
              "<Figure size 864x432 with 1 Axes>"
            ]
          },
          "metadata": {
            "tags": []
          }
        }
      ]
    },
    {
      "cell_type": "code",
      "metadata": {
        "id": "3u-0BxCDSIft",
        "colab": {
          "base_uri": "https://localhost:8080/",
          "height": 441
        },
        "outputId": "5529ad0e-a277-4f76-c406-579206ad21a5"
      },
      "source": [
        "plot_topic_dist(92)"
      ],
      "execution_count": null,
      "outputs": [
        {
          "output_type": "display_data",
          "data": {
            "image/png": "[encoded data removed]",
            "text/plain": [
              "<Figure size 864x432 with 1 Axes>"
            ]
          },
          "metadata": {
            "tags": []
          }
        }
      ]
    },
    {
      "cell_type": "markdown",
      "metadata": {
        "id": "qWCAk727Ul3A"
      },
      "source": [
        "## Build Free Text Similarity Matrix between Cities & Corporations"
      ]
    },
    {
      "cell_type": "code",
      "metadata": {
        "id": "ZlwH3aESUlGw",
        "colab": {
          "base_uri": "https://localhost:8080/",
          "height": 272
        },
        "outputId": "cea2d7f7-99f9-43e6-b039-6007989b3676"
      },
      "source": [
        "city_idx = df2.index[df2['Account Type'] == 'City'].tolist()\n",
        "corp_idx = df2.index[df2['Account Type'] == 'Corporation'].tolist()\n",
        "\n",
        "sim_matrix = pd.DataFrame({'account_1' : [], \n",
        "                           'account_1_type': [],\n",
        "                           'account_2':[], \n",
        "                           'account_2_type': [],\n",
        "                           'sim_score': []})\n",
        "\n",
        "for i in city_idx:\n",
        "  b = dictionary.doc2bow(df2.iloc[i,5])\n",
        "  d = np.array([tup[1] for tup in lda.get_document_topics(bow=b)])\n",
        "  sim_scores = jensen_shannon(d, doc_topic_dist) # array for sim scores for city `i`\n",
        "\n",
        "  append_df = pd.DataFrame({'account_1': df2.iloc[i,1],\n",
        "                            'account_1_type': df2.iloc[i,0],\n",
        "                            'account_2': df2['Account Number'],\n",
        "                            'account_2_type': df2['Account Type'],\n",
        "                            'sim_score': sim_scores})\n",
        "  \n",
        "  sim_matrix = sim_matrix.append(append_df, ignore_index=True)\n",
        "\n",
        "sim_matrix = sim_matrix[sim_matrix['account_2_type'] == 'Corporation']\n",
        "sim_matrix['account_1'] = sim_matrix['account_1'].astype('int')\n",
        "sim_matrix['account_2'] = sim_matrix['account_2'].astype('int')\n",
        "  \n",
        "print(sim_matrix.shape)\n",
        "print(len(city_idx) * len(corp_idx))\n",
        "\n",
        "sim_matrix.head()\n"
      ],
      "execution_count": null,
      "outputs": [
        {
          "output_type": "stream",
          "text": [
            "/usr/local/lib/python3.6/dist-packages/scipy/spatial/distance.py:1296: RuntimeWarning: invalid value encountered in sqrt\n",
            "  return np.sqrt(js / 2.0)\n"
          ],
          "name": "stderr"
        },
        {
          "output_type": "stream",
          "text": [
            "(5320, 5)\n",
            "5320\n"
          ],
          "name": "stdout"
        },
        {
          "output_type": "execute_result",
          "data": {
            "text/html": [
              "<div>\n",
              "<style scoped>\n",
              "    .dataframe tbody tr th:only-of-type {\n",
              "        vertical-align: middle;\n",
              "    }\n",
              "\n",
              "    .dataframe tbody tr th {\n",
              "        vertical-align: top;\n",
              "    }\n",
              "\n",
              "    .dataframe thead th {\n",
              "        text-align: right;\n",
              "    }\n",
              "</style>\n",
              "<table border=\"1\" class=\"dataframe\">\n",
              "  <thead>\n",
              "    <tr style=\"text-align: right;\">\n",
              "      <th></th>\n",
              "      <th>account_1</th>\n",
              "      <th>account_1_type</th>\n",
              "      <th>account_2</th>\n",
              "      <th>account_2_type</th>\n",
              "      <th>sim_score</th>\n",
              "    </tr>\n",
              "  </thead>\n",
              "  <tbody>\n",
              "    <tr>\n",
              "      <th>8</th>\n",
              "      <td>35853</td>\n",
              "      <td>City</td>\n",
              "      <td>58</td>\n",
              "      <td>Corporation</td>\n",
              "      <td>0.603660</td>\n",
              "    </tr>\n",
              "    <tr>\n",
              "      <th>9</th>\n",
              "      <td>35853</td>\n",
              "      <td>City</td>\n",
              "      <td>64</td>\n",
              "      <td>Corporation</td>\n",
              "      <td>0.730616</td>\n",
              "    </tr>\n",
              "    <tr>\n",
              "      <th>10</th>\n",
              "      <td>35853</td>\n",
              "      <td>City</td>\n",
              "      <td>119</td>\n",
              "      <td>Corporation</td>\n",
              "      <td>0.739552</td>\n",
              "    </tr>\n",
              "    <tr>\n",
              "      <th>11</th>\n",
              "      <td>35853</td>\n",
              "      <td>City</td>\n",
              "      <td>285</td>\n",
              "      <td>Corporation</td>\n",
              "      <td>0.685070</td>\n",
              "    </tr>\n",
              "    <tr>\n",
              "      <th>12</th>\n",
              "      <td>35853</td>\n",
              "      <td>City</td>\n",
              "      <td>291</td>\n",
              "      <td>Corporation</td>\n",
              "      <td>0.790877</td>\n",
              "    </tr>\n",
              "  </tbody>\n",
              "</table>\n",
              "</div>"
            ],
            "text/plain": [
              "    account_1 account_1_type  account_2 account_2_type  sim_score\n",
              "8       35853           City         58    Corporation   0.603660\n",
              "9       35853           City         64    Corporation   0.730616\n",
              "10      35853           City        119    Corporation   0.739552\n",
              "11      35853           City        285    Corporation   0.685070\n",
              "12      35853           City        291    Corporation   0.790877"
            ]
          },
          "metadata": {
            "tags": []
          },
          "execution_count": 78
        }
      ]
    },
    {
      "cell_type": "code",
      "metadata": {
        "id": "FHIEA5NEBU2_",
        "colab": {
          "base_uri": "https://localhost:8080/",
          "height": 34
        },
        "outputId": "074cad6b-9d44-4f83-81e8-761b334dd0d4"
      },
      "source": [
        "drive.mount('drive')\n",
        "sim_matrix.to_csv('text_response_similarity_scores.csv')\n",
        "!cp text_response_similarity_scores.csv \"drive/My Drive/\""
      ],
      "execution_count": null,
      "outputs": [
        {
          "output_type": "stream",
          "text": [
            "Drive already mounted at drive; to attempt to forcibly remount, call drive.mount(\"drive\", force_remount=True).\n"
          ],
          "name": "stdout"
        }
      ]
    }
  ]
}